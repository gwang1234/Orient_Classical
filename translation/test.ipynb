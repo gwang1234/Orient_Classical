{
 "cells": [
  {
   "cell_type": "code",
   "execution_count": 72,
   "metadata": {},
   "outputs": [
    {
     "name": "stdout",
     "output_type": "stream",
     "text": [
      "學而編子曰學而時習之不亦說乎鷗齉咖\n"
     ]
    }
   ],
   "source": [
    "import re\n",
    "\n",
    "text = '제1편 학이편 (學而編 ) 12345 abc !@#. 子曰 學而時習之 不亦說乎鷗齉咖'\n",
    "\n",
    "# 한글, 숫자, 영어, 특수문자 제거\n",
    "no_hangul_digits_dot = re.sub(r'[A-z가-힣0-9\\s!@#$%^&*()_+=\\-:;,.<>?/|\\\\{}[\\] ]', '', text)\n",
    "\n",
    "if (no_hangul_digits_dot):\n",
    "    # 한자만 출력\n",
    "    print(no_hangul_digits_dot)\n",
    "else:\n",
    "    print(\"ee\")\n"
   ]
  },
  {
   "cell_type": "code",
   "execution_count": null,
   "metadata": {},
   "outputs": [],
   "source": [
    "# 셀레니움 기본 템플릿\n",
    "from bs4 import BeautifulSoup\n",
    "from selenium import webdriver\n",
    "from selenium.webdriver.common.by import By\n",
    "from selenium.webdriver.common.keys import Keys\n",
    "import time\n",
    "\n",
    "driver = webdriver.Chrome()\n",
    "driver.get('https://startcoding.pythonanywhere.com/dynamic')\n",
    "time.sleep(1)\n",
    "\n",
    "html = driver.page_source\n",
    "soup = BeautifulSoup(html, \"html.parser\")\n",
    "\n",
    "\n",
    "for i in range(1,1000):\n",
    "    driver = webdriver.Chrome()\n",
    "    driver.get('https://startcoding.pythonanywhere.com/dynamic')\n",
    "    time.sleep(1)\n",
    "\n",
    "    html = driver.page_source\n",
    "    soup = BeautifulSoup(html, \"html.parser\")\n",
    "    if soup.select_one('') == None:\n",
    "        break"
   ]
  },
  {
   "cell_type": "code",
   "execution_count": 12,
   "metadata": {},
   "outputs": [
    {
     "name": "stdout",
     "output_type": "stream",
     "text": [
      "test.pdf 생성 완료\n"
     ]
    }
   ],
   "source": [
    "# pdf 테스트\n",
    "# pip install reportlab\n",
    "\n",
    "from reportlab.pdfgen import canvas\n",
    "from reportlab.pdfbase import pdfmetrics\n",
    "from reportlab.pdfbase.ttfonts import TTFont\n",
    "from reportlab.lib.pagesizes import A4\n",
    "from reportlab.pdfbase import pdfmetrics\n",
    "from reportlab.lib.units import inch\n",
    "\n",
    "pdfmetrics.registerFont(TTFont(\"맑은고딕\", \"malgun.ttf\"))\n",
    "pdf = canvas.Canvas(\"test.pdf\", pagesize=A4)\n",
    "width, height = A4\n",
    "pdf.setFont(\"맑은고딕\", 11)\n",
    "text = \"이것은 텍스트가 포함된 PDF 문서입니다.\"\n",
    "text_width = pdf.stringWidth(text, \"맑은고딕\", 11)\n",
    "pdf.drawString((width - text_width) / 2, 10 * inch + 2, text)  # 베이스라인을 약간 위로 조정\n",
    "\n",
    "lines = [\n",
    "    \"첫 번째 줄\",\n",
    "    \"두 번째 줄\",\n",
    "    \"세 번째 줄\",\n",
    "]\n",
    "\n",
    "y_position = 800  # Y 좌표 (위에서부터 시작)\n",
    "for line in lines:\n",
    "    pdf.drawString(50, y_position, line)\n",
    "    y_position -= 20  # 한 줄 내려가기\n",
    "\n",
    "pdf.save()\n",
    "print(\"test.pdf 생성 완료\")"
   ]
  }
 ],
 "metadata": {
  "kernelspec": {
   "display_name": "Python 3",
   "language": "python",
   "name": "python3"
  },
  "language_info": {
   "codemirror_mode": {
    "name": "ipython",
    "version": 3
   },
   "file_extension": ".py",
   "mimetype": "text/x-python",
   "name": "python",
   "nbconvert_exporter": "python",
   "pygments_lexer": "ipython3",
   "version": "3.12.8"
  }
 },
 "nbformat": 4,
 "nbformat_minor": 2
}
