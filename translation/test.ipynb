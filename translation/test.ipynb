{
 "cells": [
  {
   "cell_type": "code",
   "execution_count": 72,
   "metadata": {},
   "outputs": [
    {
     "name": "stdout",
     "output_type": "stream",
     "text": [
      "學而編子曰學而時習之不亦說乎鷗齉咖\n"
     ]
    }
   ],
   "source": [
    "import re\n",
    "\n",
    "text = '제1편 학이편 (學而編 ) 12345 abc !@#. 子曰 學而時習之 不亦說乎鷗齉咖'\n",
    "\n",
    "# 한글, 숫자, 영어, 특수문자 제거\n",
    "no_hangul_digits_dot = re.sub(r'[A-z가-힣0-9\\s!@#$%^&*()_+=\\-:;,.<>?/|\\\\{}[\\] ]', '', text)\n",
    "\n",
    "if (no_hangul_digits_dot):\n",
    "    # 한자만 출력\n",
    "    print(no_hangul_digits_dot)\n",
    "else:\n",
    "    print(\"ee\")\n"
   ]
  }
 ],
 "metadata": {
  "kernelspec": {
   "display_name": "Python 3",
   "language": "python",
   "name": "python3"
  },
  "language_info": {
   "codemirror_mode": {
    "name": "ipython",
    "version": 3
   },
   "file_extension": ".py",
   "mimetype": "text/x-python",
   "name": "python",
   "nbconvert_exporter": "python",
   "pygments_lexer": "ipython3",
   "version": "3.12.8"
  }
 },
 "nbformat": 4,
 "nbformat_minor": 2
}
