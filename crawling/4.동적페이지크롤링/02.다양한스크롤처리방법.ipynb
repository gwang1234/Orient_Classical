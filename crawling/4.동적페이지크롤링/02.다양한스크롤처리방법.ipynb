{
 "cells": [
  {
   "cell_type": "code",
   "execution_count": 18,
   "metadata": {},
   "outputs": [],
   "source": [
    "# 셀레니움 기본 템플릿\n",
    "from bs4 import BeautifulSoup\n",
    "from selenium import webdriver\n",
    "from selenium.webdriver.common.by import By\n",
    "from selenium.webdriver.common.keys import Keys\n",
    "import time\n",
    "\n",
    "driver = webdriver.Chrome()\n",
    "driver.get('https://startcoding.pythonanywhere.com/dynamic')"
   ]
  },
  {
   "cell_type": "code",
   "execution_count": 4,
   "metadata": {},
   "outputs": [],
   "source": [
    "# 절대 위치로 스크롤\n",
    "driver.execute_script('window.scrollTo(0, 1000)')"
   ]
  },
  {
   "cell_type": "code",
   "execution_count": 5,
   "metadata": {},
   "outputs": [],
   "source": [
    "# 상대 위치로 스크롤\n",
    "driver.execute_script('window.scrollBy(0, 1000)')"
   ]
  },
  {
   "cell_type": "code",
   "execution_count": 14,
   "metadata": {},
   "outputs": [
    {
     "data": {
      "text/plain": [
       "7090"
      ]
     },
     "execution_count": 14,
     "metadata": {},
     "output_type": "execute_result"
    }
   ],
   "source": [
    "# 현재 스크롤 높이\n",
    "driver.execute_script('return document.body.scrollHeight')"
   ]
  },
  {
   "cell_type": "code",
   "execution_count": 13,
   "metadata": {},
   "outputs": [],
   "source": [
    "# 페이지 끝까지 스크롤\n",
    "driver.execute_script('window.scrollTo(0, document.body.scrollHeight)')"
   ]
  },
  {
   "cell_type": "code",
   "execution_count": 20,
   "metadata": {},
   "outputs": [],
   "source": [
    "# (심화) 특정 요소로 스크롤 하는 방법\n",
    "tag = driver.find_element(By.CSS_SELECTOR, '#aside > div:nth-child(3) > div > div:nth-child(6) > label')\n",
    "driver.execute_script('arguments[0].scrollIntoView(true)', tag)"
   ]
  },
  {
   "cell_type": "code",
   "execution_count": 25,
   "metadata": {},
   "outputs": [],
   "source": [
    "# (심화) 특정 요소가 나타날 때까지 스크롤\n",
    "import time\n",
    "\n",
    "while True:\n",
    "    try:\n",
    "        element = driver.find_element(By.CSS_SELECTOR, '#product-container > div:nth-child(22) > div')\n",
    "        break\n",
    "    except:\n",
    "        driver.execute_script('window.scrollTo(0, document.body.scrollHeight)')\n",
    "        time.sleep(0.5)"
   ]
  },
  {
   "cell_type": "code",
   "execution_count": 24,
   "metadata": {},
   "outputs": [
    {
     "data": {
      "text/plain": [
       "'-18%HOT\\n휴대폰\\n삼성전자 갤럭시 A34 자급제, 어썸 바이올렛, 128GB\\n408,400원499,400\\n(4561)\\nADD TO CART'"
      ]
     },
     "execution_count": 24,
     "metadata": {},
     "output_type": "execute_result"
    }
   ],
   "source": [
    "element.text"
   ]
  }
 ],
 "metadata": {
  "kernelspec": {
   "display_name": "Python 3",
   "language": "python",
   "name": "python3"
  },
  "language_info": {
   "codemirror_mode": {
    "name": "ipython",
    "version": 3
   },
   "file_extension": ".py",
   "mimetype": "text/x-python",
   "name": "python",
   "nbconvert_exporter": "python",
   "pygments_lexer": "ipython3",
   "version": "3.12.8"
  }
 },
 "nbformat": 4,
 "nbformat_minor": 2
}
