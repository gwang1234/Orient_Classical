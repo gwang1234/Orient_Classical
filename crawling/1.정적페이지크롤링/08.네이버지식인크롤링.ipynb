{
 "cells": [
  {
   "cell_type": "code",
   "execution_count": 9,
   "metadata": {},
   "outputs": [],
   "source": [
    "# 첫번째 뉴스 - 제목, 링크, 내용, 언론사, 날짜\n",
    "import requests\n",
    "from bs4 import BeautifulSoup\n",
    "\n",
    "response = requests.get('https://kin.naver.com/search/list.naver?query=%EC%82%BC%EC%84%B1%EC%A0%84%EC%9E%90')\n",
    "html = response.text\n",
    "soup = BeautifulSoup(html, 'html.parser')"
   ]
  },
  {
   "cell_type": "code",
   "execution_count": 34,
   "metadata": {},
   "outputs": [
    {
     "data": {
      "text/plain": [
       "'2024 삼성전자 5급 채용 일정'"
      ]
     },
     "execution_count": 34,
     "metadata": {},
     "output_type": "execute_result"
    }
   ],
   "source": [
    "soup.select_one('._nclicks\\\\:kin\\\\.txt').text"
   ]
  },
  {
   "cell_type": "code",
   "execution_count": 35,
   "metadata": {},
   "outputs": [
    {
     "data": {
      "text/plain": [
       "'2024 삼성전자 5급 채용 일정'"
      ]
     },
     "execution_count": 35,
     "metadata": {},
     "output_type": "execute_result"
    }
   ],
   "source": [
    "soup.select_one('._searchListTitleAnchor').text"
   ]
  },
  {
   "cell_type": "code",
   "execution_count": 37,
   "metadata": {},
   "outputs": [
    {
     "data": {
      "text/plain": [
       "'2024 삼성전자 5급 채용 일정'"
      ]
     },
     "execution_count": 37,
     "metadata": {},
     "output_type": "execute_result"
    }
   ],
   "source": [
    "soup.select_one('._nclicks\\\\:kin\\\\.txt._searchListTitleAnchor').text"
   ]
  },
  {
   "cell_type": "code",
   "execution_count": 38,
   "metadata": {},
   "outputs": [
    {
     "data": {
      "text/plain": [
       "'https://kin.naver.com/qna/detail.naver?d1id=4&dirId=40609&docId=466096204&qb=7IK87ISx7KCE7J6Q&enc=utf8§ion=kin.qna_ency&rank=1&search_sort=0&spq=0'"
      ]
     },
     "execution_count": 38,
     "metadata": {},
     "output_type": "execute_result"
    }
   ],
   "source": [
    "soup.select_one('._nclicks\\\\:kin\\\\.txt').attrs['href']"
   ]
  },
  {
   "cell_type": "code",
   "execution_count": 15,
   "metadata": {},
   "outputs": [
    {
     "data": {
      "text/plain": [
       "'2024.12.06.'"
      ]
     },
     "execution_count": 15,
     "metadata": {},
     "output_type": "execute_result"
    }
   ],
   "source": [
    "soup.select_one('.txt_inline').text"
   ]
  },
  {
   "cell_type": "code",
   "execution_count": 39,
   "metadata": {},
   "outputs": [
    {
     "data": {
      "text/plain": [
       "'생산, 기술'"
      ]
     },
     "execution_count": 39,
     "metadata": {},
     "output_type": "execute_result"
    }
   ],
   "source": [
    "soup.select_one('.txt_block > a:nth-of-type(2)').text"
   ]
  },
  {
   "cell_type": "code",
   "execution_count": 25,
   "metadata": {},
   "outputs": [
    {
     "data": {
      "text/plain": [
       "'4'"
      ]
     },
     "execution_count": 25,
     "metadata": {},
     "output_type": "execute_result"
    }
   ],
   "source": [
    "soup.select_one('.txt_block > span:nth-of-type(2)').text.split(\" \")[1]"
   ]
  },
  {
   "cell_type": "code",
   "execution_count": 50,
   "metadata": {},
   "outputs": [
    {
     "name": "stdout",
     "output_type": "stream",
     "text": [
      "삼성전자 서비스센터 예약 https://kin.naver.com/qna/detail.naver?d1id=8&dirId=80901&docId=462112162&qb=7IK87ISx7KCE7J6Q&enc=utf8§ion=kin.qna_ency&rank=81&search_sort=0&spq=0 2024.10.24. 청소, 수리 5\n",
      "반도체 계약학과 (하이닉스vs삼성전자) https://kin.naver.com/qna/detail.naver?d1id=11&dirId=11050404&docId=479100338&qb=7IK87ISx7KCE7J6Q&enc=utf8§ion=kin.qna_ency&rank=82&search_sort=0&spq=0 2024.12.15. 기술과학대학 2\n",
      "삼성전자 공채 https://kin.naver.com/qna/detail.naver?d1id=4&dirId=406&docId=400612498&qb=7IK87ISx7KCE7J6Q&enc=utf8§ion=kin.qna_ency&rank=83&search_sort=0&spq=0 2024.11.18. 직업, 취업 2\n",
      "삼성전자 5급 DS 설비엔지니어직 지사트...  https://kin.naver.com/qna/detail.naver?d1id=4&dirId=40609&docId=469894586&qb=7IK87ISx7KCE7J6Q&enc=utf8§ion=kin.qna_ency&rank=84&search_sort=0&spq=0 2024.05.24. 생산, 기술 5\n",
      "삼성전자 tsmc https://kin.naver.com/qna/detail.naver?d1id=2&dirId=20707&docId=478409095&qb=7IK87ISx7KCE7J6Q&enc=utf8§ion=kin.qna_ency&rank=85&search_sort=0&spq=0 2024.11.30. 화투게임 1\n",
      "삼성 전자 서비스 센터 방문 신청 예약 https://kin.naver.com/qna/detail.naver?d1id=4&dirId=40703&docId=410956943&qb=7IK87ISx7KCE7J6Q&enc=utf8§ion=kin.qna_ency&rank=86&search_sort=0&spq=0 2024.10.24. 서비스업 3\n",
      "쿠팡 삼성전자 김치플러스 김치냉장고 차이 https://kin.naver.com/qna/detail.naver?d1id=5&dirId=501&docId=478443965&qb=7IK87ISx7KCE7J6Q&enc=utf8§ion=kin.qna_ency&rank=87&search_sort=0&spq=0 2024.11.28. 가전제품 1\n",
      "삼성전자 설비 5급 날짜 관련 질문입니다. https://kin.naver.com/qna/detail.naver?d1id=4&dirId=406&docId=461300094&qb=7IK87ISx7KCE7J6Q&enc=utf8§ion=kin.qna_ency&rank=88&search_sort=0&spq=0 2024.01.17. 직업, 취업 2\n",
      "삼성전자 골판지 에코패키지 https://kin.naver.com/qna/detail.naver?d1id=5&dirId=50104&docId=477956822&qb=7IK87ISx7KCE7J6Q&enc=utf8§ion=kin.qna_ency&rank=89&search_sort=0&spq=0 2024.11.19. 청소, 주방, 계절 가전 1\n",
      "삼성전자주식 3분기 배당기준일 언제죠 https://kin.naver.com/qna/detail.naver?d1id=4&dirId=40102&docId=475576706&qb=7IK87ISx7KCE7J6Q&enc=utf8§ion=kin.qna_ency&rank=90&search_sort=0&spq=0 2024.09.20. 주식, 증권 3\n"
     ]
    }
   ],
   "source": [
    "contents = soup.select('.basic1 dl')\n",
    "\n",
    "for content in contents:\n",
    "    title = content.select_one('._nclicks\\\\:kin\\\\.txt').text\n",
    "    link = content.select_one('._nclicks\\\\:kin\\\\.txt').attrs['href']\n",
    "    date = content.select_one('.txt_inline').text\n",
    "    category = content.select_one('.txt_block > a:nth-of-type(2)').text\n",
    "    answers = content.select_one('.txt_block > span:nth-of-type(2)').text.split(\" \")[1]\n",
    "    print(title, link, date, category, answers)"
   ]
  },
  {
   "cell_type": "code",
   "execution_count": 59,
   "metadata": {},
   "outputs": [
    {
     "name": "stdout",
     "output_type": "stream",
     "text": [
      "2024 삼성전자 5급 채용 일정 https://kin.naver.com/qna/detail.naver?d1id=4&dirId=40609&docId=466096204&qb=7IK87ISx7KCE7J6Q&enc=utf8§ion=kin.qna_ency&rank=1&search_sort=0&spq=0 2024.12.06. 생산, 기술 4\n",
      "삼성전자 주가 왜이렇게 떨어지나요....  https://kin.naver.com/qna/detail.naver?d1id=4&dirId=40102&docId=479283216&qb=7IK87ISx7KCE7J6Q&enc=utf8§ion=kin.qna_ency&rank=2&search_sort=0&spq=0 2024.12.18. 주식, 증권 12\n",
      "삼성전자반도체 근무중(점심시간 뇌출혈)...  https://kin.naver.com/qna/detail.naver?d1id=6&dirId=6100403&docId=477806009&qb=7IK87ISx7KCE7J6Q&enc=utf8§ion=kin.qna_ency&rank=3&search_sort=0&spq=0 2024.11.13. 산업재해보상보험 7\n",
      "삼성전자 사운드바 엘지tv와...  https://kin.naver.com/qna/detail.naver?d1id=5&dirId=50103&docId=477588576&qb=7IK87ISx7KCE7J6Q&enc=utf8§ion=kin.qna_ency&rank=4&search_sort=0&spq=0 2024.11.07. 영상, 음향 가전 5\n",
      "삼성전자 주가 요즘 왜 이러는 건가요? https://kin.naver.com/qna/detail.naver?d1id=4&dirId=40102&docId=479244754&qb=7IK87ISx7KCE7J6Q&enc=utf8§ion=kin.qna_ency&rank=5&search_sort=0&spq=0 2024.12.23. 주식, 증권 8\n",
      "삼성전자 주식 https://kin.naver.com/qna/detail.naver?d1id=4&dirId=40102&docId=477887994&qb=7IK87ISx7KCE7J6Q&enc=utf8§ion=kin.qna_ency&rank=6&search_sort=0&spq=0 2024.11.14. 주식, 증권 7\n",
      "삼성 전자레인지 https://kin.naver.com/qna/detail.naver?d1id=1&dirId=10303&docId=479301788&qb=7IK87ISx7KCE7J6Q&enc=utf8§ion=kin.qna_ency&rank=7&search_sort=0&spq=0 2024.12.19. 맥OS 1\n",
      "삼성전자 택배 https://kin.naver.com/qna/detail.naver?d1id=5&dirId=501&docId=479449678&qb=7IK87ISx7KCE7J6Q&enc=utf8§ion=kin.qna_ency&rank=8&search_sort=0&spq=0 2024.12.22. 가전제품 1\n",
      "삼성전자 ds dx https://kin.naver.com/qna/detail.naver?d1id=11&dirId=1114&docId=439344340&qb=7IK87ISx7KCE7J6Q&enc=utf8§ion=kin.qna_ency&rank=9&search_sort=0&spq=0 2024.11.02. 물리학 2\n",
      "이 ssd 삼성전자 건가요? https://kin.naver.com/qna/detail.naver?d1id=1&dirId=1010405&docId=478781336&qb=7IK87ISx7KCE7J6Q&enc=utf8§ion=kin.qna_ency&rank=10&search_sort=0&spq=0 2024.12.06. 외장하드, 저장장치 3\n"
     ]
    }
   ],
   "source": [
    "data = []\n",
    "page = int(input(\"마지막 페이지: \"))\n",
    "for i in range(1, page+1):\n",
    "    response = requests.get(f'https://kin.naver.com/search/list.naver?query=%EC%82%BC%EC%84%B1%EC%A0%84%EC%9E%90&page={i}')\n",
    "    html = response.text\n",
    "    soup = BeautifulSoup(html, 'html.parser')\n",
    "    contents = soup.select('.basic1 dl')\n",
    "    for content in contents:\n",
    "        title = content.select_one('._nclicks\\\\:kin\\\\.txt').text\n",
    "        link = content.select_one('._nclicks\\\\:kin\\\\.txt').attrs['href']\n",
    "        date = content.select_one('.txt_inline').text\n",
    "        category = content.select_one('.txt_block > a:nth-of-type(2)').text\n",
    "        answers = content.select_one('.txt_block > span:nth-of-type(2)').text.split(\" \")[1]\n",
    "        print(title, link, date, category, answers)\n",
    "        data.append([title, link, date, category, int(answers)])"
   ]
  },
  {
   "cell_type": "code",
   "execution_count": 54,
   "metadata": {},
   "outputs": [],
   "source": [
    "import pandas as pd\n",
    "\n",
    "df = pd.DataFrame(data, columns=([\"제목\", \"링크\", \"날짜\", \"카테고리\", \"답변수\"]))\n",
    "df.to_excel(\"intellectual.xlsx\")"
   ]
  }
 ],
 "metadata": {
  "kernelspec": {
   "display_name": "Python 3",
   "language": "python",
   "name": "python3"
  },
  "language_info": {
   "codemirror_mode": {
    "name": "ipython",
    "version": 3
   },
   "file_extension": ".py",
   "mimetype": "text/x-python",
   "name": "python",
   "nbconvert_exporter": "python",
   "pygments_lexer": "ipython3",
   "version": "3.12.8"
  }
 },
 "nbformat": 4,
 "nbformat_minor": 2
}
