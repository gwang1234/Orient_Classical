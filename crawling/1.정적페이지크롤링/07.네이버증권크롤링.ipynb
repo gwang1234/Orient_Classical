{
 "cells": [
  {
   "cell_type": "code",
   "execution_count": null,
   "metadata": {},
   "outputs": [],
   "source": [
    "# 첫번째 뉴스 - 제목, 링크, 내용, 언론사, 날짜\n",
    "import requests\n",
    "from bs4 import BeautifulSoup\n",
    "\n",
    "response = requests.get('https://finance.naver.com/news/mainnews.naver?date=2025-01-04')\n",
    "html = response.text\n",
    "soup = BeautifulSoup(html, 'html.parser')"
   ]
  },
  {
   "cell_type": "code",
   "execution_count": 35,
   "metadata": {},
   "outputs": [
    {
     "data": {
      "text/plain": [
       "'뉴욕증시, 4거래일 동반 하락세 끊을까…심기일전·반등 출발'"
      ]
     },
     "execution_count": 35,
     "metadata": {},
     "output_type": "execute_result"
    }
   ],
   "source": [
    "soup.select_one('.articleSubject > a').text"
   ]
  },
  {
   "cell_type": "code",
   "execution_count": 30,
   "metadata": {},
   "outputs": [
    {
     "data": {
      "text/plain": [
       "'https://finance.naver.com/news/news_read.naver?article_id=0015141147&office_id=001&mode=mainnews&type=&date=2025-01-04&page=1'"
      ]
     },
     "execution_count": 30,
     "metadata": {},
     "output_type": "execute_result"
    }
   ],
   "source": [
    "\"https://finance.naver.com\" + soup.select_one('.articleSubject > a').attrs['href']"
   ]
  },
  {
   "cell_type": "code",
   "execution_count": 38,
   "metadata": {},
   "outputs": [
    {
     "data": {
      "text/plain": [
       "'김 현 연합인포맥스 통신원 = 뉴욕증시는 2025년 첫 주의 마지막 거래일을 동반 강세로 출발했다. 연초 롤러코스터 장세를 뚫고 이 분..'"
      ]
     },
     "execution_count": 38,
     "metadata": {},
     "output_type": "execute_result"
    }
   ],
   "source": [
    "soup.select_one(\".articleSummary\").contents[0].strip()"
   ]
  },
  {
   "cell_type": "code",
   "execution_count": 32,
   "metadata": {},
   "outputs": [
    {
     "data": {
      "text/plain": [
       "'연합뉴스'"
      ]
     },
     "execution_count": 32,
     "metadata": {},
     "output_type": "execute_result"
    }
   ],
   "source": [
    "soup.select_one(\".press\").text.strip()"
   ]
  },
  {
   "cell_type": "code",
   "execution_count": 39,
   "metadata": {},
   "outputs": [
    {
     "data": {
      "text/plain": [
       "'2025-01-04 00:55:13'"
      ]
     },
     "execution_count": 39,
     "metadata": {},
     "output_type": "execute_result"
    }
   ],
   "source": [
    "soup.select_one(\".wdate\").text"
   ]
  },
  {
   "cell_type": "code",
   "execution_count": 44,
   "metadata": {},
   "outputs": [
    {
     "name": "stdout",
     "output_type": "stream",
     "text": [
      "뉴욕증시, 4거래일 동반 하락세 끊을까…심기일전·반등 출발 https://finance.naver.com/news/news_read.naver?article_id=0015141147&office_id=001&mode=mainnews&type=&date=2025-01-04&page=1 김 현 연합인포맥스 통신원 = 뉴욕증시는 2025년 첫 주의 마지막 거래일을 동반 강세로 출발했다. 연초 롤러코스터 장세를 뚫고 이 분.. 연합뉴스 2025-01-04 00:55:13\n",
      " 국내 유일 상장 PE 스틱인베, 美 지배 지분 쑥…'부담'[주간사모펀드] https://finance.naver.com/news/news_read.naver?article_id=0000353658&office_id=629&mode=mainnews&type=&date=2025-01-04&page=1 한국OGK, H&Q코리아 품으로 마녀공장, 케이엘앤파트너스 품에 안겨 국내 사모펀드(PEF) 운용사 중 유일한 상장사인 스틱인베스트먼트.. 더팩트 2025-01-04 00:01:39\n"
     ]
    }
   ],
   "source": [
    "# 1페이지 20개 뉴스 - 제목, 링크, 내용, 언론사, 날짜\n",
    "blocks = soup.select(\".block1\")\n",
    "\n",
    "for block in blocks:\n",
    "    title = block.select_one('.articleSubject > a').text\n",
    "    url = \"https://finance.naver.com\" + block.select_one('.articleSubject > a').attrs['href']\n",
    "    content = block.select_one(\".articleSummary\").contents[0].strip()\n",
    "    a = block.select_one(\".press\").text.strip()\n",
    "    date = block.select_one(\".wdate\").text\n",
    "    print(title, url, content, a, date)"
   ]
  },
  {
   "cell_type": "code",
   "execution_count": 56,
   "metadata": {},
   "outputs": [
    {
     "name": "stdout",
     "output_type": "stream",
     "text": [
      "간 큰 개미, 9조원 '쐈다'…\"꼬리가 몸통을 흔든다\" 우려 https://finance.naver.com/news/news_read.naver?article_id=0001193978&office_id=215&mode=mainnews&type=&date=2025-01-03&page=1 국내 설정 레버리지 펀드의 설정액이 9조원을 넘어섰다. 사상 최대 규모다. 레버리지 펀드는 기초지수나 종목의 수익률을 두 배로 추종하는.. 한국경제TV 2025-01-03 21:38:55\n",
      "“韓증시, 오랜만에 웃긴 했는데”…돌아오다가 멈춘 외국인 왜? https://finance.naver.com/news/news_read.naver?article_id=0005423590&office_id=009&mode=mainnews&type=&date=2025-01-03&page=1 美中 부진 속 나홀로 상승 정치 불확실성 완화 기대감 외국인, 선물 7000억 순새무 하루만에 코스피 1조 사들여 지난해 글로벌 증시 .. 매일경제 2025-01-03 21:05:11\n",
      "“서학개미들 안목 좀 볼까”…월가도 올해 잘 나갈 ‘옥석’ 가렸다는데 https://finance.naver.com/news/news_read.naver?article_id=0005423589&office_id=009&mode=mainnews&type=&date=2025-01-03&page=1 서학개미 선호주 톱 10 중 월가가 뽑은 유망주 월가 “MSTR·엔비디아·MS·구글 올해도 달린다” MSTR, 트럼프 훈풍 탄 비트코인.. 매일경제 2025-01-03 21:04:14\n",
      "[단독] 제주항공 참사에도 애경그룹 소유 호텔 종무식서 '경품 뽑고 박수치고' https://finance.naver.com/news/news_read.naver?article_id=0001864529&office_id=057&mode=mainnews&type=&date=2025-01-03&page=1 사상 최악의 여객기 참사로 기록된 제주항공 여객기 참사. 그런데 국가 애도기간에 제주항공의 모기업인 애경그룹이 소유한 호텔에서 경품 추.. MBN 2025-01-03 20:01:10\n",
      " \"기체 이상\" 교신 후 북서쪽 방향으로 틀어, 사고 여객기 조종실에서 무슨 일[뉴스추적] https://finance.naver.com/news/news_read.naver?article_id=0001864527&office_id=057&mode=mainnews&type=&date=2025-01-03&page=1 그러면 사고 당시 조종실에서는 어떤 일이 있었는지 경제부 이승훈 기자가 조금 더 얘기 나눠보겠습니다. 이 기자. 그럼 당시 상황을 한 .. MBN 2025-01-03 19:57:10\n",
      "[단독] 5,000피트로 고도 올려야 했지만…기체 이상 교신 후 북서쪽으로 https://finance.naver.com/news/news_read.naver?article_id=0001864525&office_id=057&mode=mainnews&type=&date=2025-01-03&page=1 제주항공 사고 여객기가 1차착륙에 실패하고 복항을 시도한 직후 기체가 통제 불능에 빠진 것으로 유추되는 정황이 확인됐습니다. 관제탑에서.. MBN 2025-01-03 19:53:10\n",
      "“외국인-기관 돌아왔다”…코스피, 6거래일 만에 반등 https://finance.naver.com/news/news_read.naver?article_id=0003607939&office_id=020&mode=mainnews&type=&date=2025-01-03&page=1 최상목 대통령 권한대행 부총리 겸 기획재정부 장관을 중심으로 정부가 본격적으로 국정 공백 최소화에 나서면서 유가증권시장은 6거래일만에 .. 동아일보 2025-01-03 19:39:12\n",
      "공수처가 밝힌 긴박했던 상황…\"200명 인간띠·개인 화기도 소지\" https://finance.naver.com/news/news_read.naver?article_id=0001864497&office_id=057&mode=mainnews&type=&date=2025-01-03&page=1 체포영장 집행이 중지된 뒤 공수처는 브리핑을 통해 당시 긴박했던 상황을 전했습니다. 관저 200m 앞까지 접근했지만, 군인과 대통령경호.. MBN 2025-01-03 19:07:09\n",
      "\"강남 테헤란로만 오피스인가?\" 서초역은 지금 변화중 https://finance.naver.com/news/news_read.naver?article_id=0005918371&office_id=018&mode=mainnews&type=&date=2025-01-03&page=1 이 기사는 2025년01월03일 16시35분에 마켓인 프리미엄 콘텐츠로 선공개 되었습니다. 지하철 2호선 강남역 부근 테헤란로에 집중됐.. 이데일리 2025-01-03 18:36:15\n",
      "AI칩·양자컴·자율주행…CES 수혜주 뜬다 https://finance.naver.com/news/news_read.naver?article_id=0004435612&office_id=011&mode=mainnews&type=&date=2025-01-03&page=1 세계 최대 가전·정보기술(IT) 박람회 ‘CES 2025’ 개막이 눈앞으로 다가오면서 전 세계의 이목이 집중되고 있다. 올해 주요 테마.. 서울경제 2025-01-03 18:00:10\n",
      "삼성이 품은 레인보우로보틱스, 이틀새 43% 급등 https://finance.naver.com/news/news_read.naver?article_id=0004435611&office_id=011&mode=mainnews&type=&date=2025-01-03&page=1 삼성전자(005930)의 자회사로 편입된다는 소식을 발표한 레인보우로보틱스(277810)가 연이틀 급등했다. 3일 한국거래소에 따르면 .. 서울경제 2025-01-03 17:58:17\n",
      "프라뱅은 됐는데…가상자산사업자 신고 '깜깜' https://finance.naver.com/news/news_read.naver?article_id=0000032121&office_id=648&mode=mainnews&type=&date=2025-01-03&page=1 국내 가상자산거래소 '프라뱅'이 가상자산사업자(VASP) 갱신에 성공했다. 갱신신고 심사를 요청한 가상자산거래소 중 최초다. 두나무, .. 비즈워치 2025-01-03 17:58:08\n",
      "예탁금 새해 첫날 2.8조 쑥…개미들 '저가 매수' 나서나 https://finance.naver.com/news/news_read.naver?article_id=0004435607&office_id=011&mode=mainnews&type=&date=2025-01-03&page=1 코스피지수가 최근 각종 대외 변수에 국내 정치 불안까지 겹친 탓에 저평가 구간에 장기간 머물자 투자자 예탁금이 새해 하루 만에 2조 8.. 서울경제 2025-01-03 17:56:16\n",
      "현대차 'IRA 보조금' 호재에…2차전지주 깜짝 반등 https://finance.naver.com/news/news_read.naver?article_id=0004435604&office_id=011&mode=mainnews&type=&date=2025-01-03&page=1 최근 주가 부진을 면치 못했던 2차전지 종목들이 3일 깜짝 반등했다. 미국 인플레이션감축법(IRA) 혜택 대상에 현대차가 포함됐다는 소.. 서울경제 2025-01-03 17:54:16\n",
      "단기급등 베팅하는 개미…레버리지펀드 9조 돌파 https://finance.naver.com/news/news_read.naver?article_id=0005077727&office_id=015&mode=mainnews&type=&date=2025-01-03&page=1 기초지수나 종목의 수익률을 두 배로 추종하는 레버리지 펀드의 설정액이 9조원을 넘어섰다. 국내 증시의 하락세가 길어지자 단기 반등을 노.. 한국경제 2025-01-03 17:50:16\n",
      "\"엔비디아 큰 거 온다\"…하이닉스 기지개 https://finance.naver.com/news/news_read.naver?article_id=0005077723&office_id=015&mode=mainnews&type=&date=2025-01-03&page=1 SK하이닉스 주가가 3일 6% 이상 급등해 18만원대에 올라섰다. 핵심 고객사인 엔비디아에 월가가 긍정적인 전망을 쏟아낸 영향이다. S.. 한국경제 2025-01-03 17:48:18\n",
      "한국 증시, 드디어 '앞에서 1등'…외국인들 쓸어 담은 종목이 https://finance.naver.com/news/news_read.naver?article_id=0005077714&office_id=015&mode=mainnews&type=&date=2025-01-03&page=1 고환율, 국내 정치 불안 등의 요인이 겹치며 휘청이던 코스피·코스닥지수가 3일 모처럼 나란히 반등했다. 코스닥지수는 새해 들어 2거래일.. 한국경제 2025-01-03 17:43:17\n",
      "코스피 깜짝 반등…\"중요한 변곡점일수도\" [장 안의 화제] https://finance.naver.com/news/news_read.naver?article_id=0001193955&office_id=215&mode=mainnews&type=&date=2025-01-03&page=1 ※ 한국경제TV 생방송 성공투자오후증시는 매일 오후 2시에 방영됩니다. 본 내용은 각 패널 개인의 의견일 뿐 투자 판단은 개인의 몫입니.. 한국경제TV 2025-01-03 17:32:25\n",
      "현대차 IRA·中 기술 수출 제한…2차전지株 모처럼 '급등'[핫종목] https://finance.naver.com/news/news_read.naver?article_id=0008002763&office_id=421&mode=mainnews&type=&date=2025-01-03&page=1 전기차 캐즘(일시적 수요 둔화)과 '트럼프 리스크'에 약세를 보이던 2차전지주(株)가 미국·중국발 호재에 모처럼 강세를 보였다. 3일 .. 뉴스1 2025-01-03 17:21:39\n",
      "머스크·베이조스도 홀린 2천조 시장…1년 새 40%↑[미다스의 손] https://finance.naver.com/news/news_read.naver?article_id=0001193954&office_id=215&mode=mainnews&type=&date=2025-01-03&page=1 ※ 한국경제TV는 급변하는 투자 환경 속 신뢰할 수 있는 정보와 인사이트가 가득한 고품격 투자 콘텐츠, 을 매주 금요일 오후 5시 방송.. 한국경제TV 2025-01-03 17:14:01\n",
      "'영풍' 소액주주들, 공개 주주서한 발송…\"상장사 중 PBR 최하위\" https://finance.naver.com/news/news_read.naver?article_id=0012996884&office_id=003&mode=mainnews&type=&date=2025-01-03&page=2 고려아연 경영권 분쟁에 참여하고 있는 영풍의 소액주주들이 국내 상장사 중 최하위 수준인 주가순자산비율(PBR)에 대한 해결책 요구에 나.. 뉴시스 2025-01-03 17:12:39\n",
      "“며칠만 더 기다릴걸”… 작년 말 엑시트한 클로봇 투자자 https://finance.naver.com/news/news_read.naver?article_id=0001044790&office_id=366&mode=mainnews&type=&date=2025-01-03&page=2 레인보우로보틱스, 삼성전자 자회사 편입 효과로 로봇주 강세 클로봇 새해 급등했는데…신한벤처투자, 연말에 일부 지분 매도 레인보우로보틱스.. 조선비즈 2025-01-03 16:49:07\n",
      "코스피, 6거래일만에 2440선 탈환… 코스닥은 36거래일만에 700선 https://finance.naver.com/news/news_read.naver?article_id=0001049635&office_id=417&mode=mainnews&type=&date=2025-01-03&page=2 코스피가 기관과 외국인 순매수세에 강세로 마감했다. 3일 한국거래소에 따르면 이날 코스피는 전 거래일 대비 42.98포인트(1.79%).. 머니S 2025-01-03 16:31:47\n",
      "미-중 태양광 전쟁에…한화솔루션 10%대 강세[핫종목] https://finance.naver.com/news/news_read.naver?article_id=0008002637&office_id=421&mode=mainnews&type=&date=2025-01-03&page=2 미국이 중국산 태양광 웨이퍼 등에 대한 관세를 인상하자 이로 인한 수혜 기대감에 국내 태양광 기업이 강세다. 3일 한국거래소에 따르면 .. 뉴스1 2025-01-03 16:27:26\n",
      "‘외국인 유입’ 코스피 2440대 마감…6거래일만에 반등[투자360] https://finance.naver.com/news/news_read.naver?article_id=0002411116&office_id=016&mode=mainnews&type=&date=2025-01-03&page=2 외인 나흘만에 ‘사자’…선물도 대거 순매수 ‘18만닉스’ 회복·삼전 상승…이차전지주도 ↑ 코스피가 6거래일 만에 반등해 2,440대를 .. 헤럴드경제 2025-01-03 16:25:08\n",
      "해 바뀌니 2차전지주 '훨훨'…바닥 다졌나 https://finance.naver.com/news/news_read.naver?article_id=0005918280&office_id=018&mode=mainnews&type=&date=2025-01-03&page=2 지난해 주가가 반토막 났던 2차전지주가 올해 들어 급반등했다. 현대차의 전기차가 미국 정부의 보조금 지급 대상에 새롭게 포함됐다는 호재.. 이데일리 2025-01-03 16:18:09\n",
      "엔비디아 급등에 반도체주 '급등'…SK하이닉스 6%대 강세[핫종목] https://finance.naver.com/news/news_read.naver?article_id=0008002577&office_id=421&mode=mainnews&type=&date=2025-01-03&page=2 엔비디아 등 미국 대형 기술주가 반등하자 국내 반도체주도 간만에 웃었다. 3일 한국거래소에 따르면 SK하이닉스(000660)는 전일 대.. 뉴스1 2025-01-03 16:05:18\n",
      "“LIG넥스원, 17% 더 올라야 편입”… MSCI 지수 포함 가능성 종목은? https://finance.naver.com/news/news_read.naver?article_id=0001044765&office_id=366&mode=mainnews&type=&date=2025-01-03&page=2 하나증권, MSCI 편입 시가총액 기준 6조6900억원 추정 LIG넥스원, 삼양식품, HD현대미포 언급 글로벌 주가지수 산출 업체 모건.. 조선비즈 2025-01-03 16:02:11\n",
      "반도체·이차전지株 '들썩'…코스피 6일만에 반등, 2440선 마감 https://finance.naver.com/news/news_read.naver?article_id=0005527453&office_id=277&mode=mainnews&type=&date=2025-01-03&page=2 코스피가 5거래일 연속 하락을 끊고 드디어 반등에 성공했다. 새해 첫 거래일 고개를 숙였던 이튿날에 2% 가까운 상승 폭을 기록하며 모.. 아시아경제 2025-01-03 16:01:14\n",
      "\"웰컴 백 외국인\"…코스피 2400선·코스닥 700선 탈환 https://finance.naver.com/news/news_read.naver?article_id=0005136663&office_id=008&mode=mainnews&type=&date=2025-01-03&page=2 새해를 맞아 돌아온 외국인 덕분에 코스피가 6거래일 만에 상승 마감했다. 코스닥은 지난해 11월12일 이후 35일 만에 종가 기준 70.. 머니투데이 2025-01-03 15:57:37\n",
      "월가 엔비디아 낙관론에 SK하이닉스 6%·삼성전자 2%↑(종합) https://finance.naver.com/news/news_read.naver?article_id=0015140651&office_id=001&mode=mainnews&type=&date=2025-01-03&page=2 엔비디아 \"올해 최고 반도체주\" 평가 속 3%↑…국내 반도체주 동반 상승 정부 R&D 집중투자 계획 및 서버제품 가격인상 전망도 호재 .. 연합뉴스 2025-01-03 15:56:55\n",
      "서학개미 한 달간 1조원 샀는데···테슬라 400달러 붕괴 https://finance.naver.com/news/news_read.naver?article_id=0005423427&office_id=009&mode=mainnews&type=&date=2025-01-03&page=2 4분기 인도량 예상치 밑돌며 주가 급락 지난달부터 서학개미 순매수액 1위 종목 목표주가 평균보다 여전히 고평가 상태 미국 전기차 업체 .. 매일경제 2025-01-03 15:53:06\n",
      "선행 PER 8배, 반등 내다보는 코스피...\"방망이 짧게 잡아야\" https://finance.naver.com/news/news_read.naver?article_id=0005290853&office_id=014&mode=mainnews&type=&date=2025-01-03&page=2 국내 증시에 반영되는 대내 불확실성 요인이 해소 국면에 들어서고 있지만 아직 대외 요인이 남아 증시 반등 폭은 제한적일 것이라는 예상이.. 파이낸셜뉴스 2025-01-03 15:51:14\n",
      "엔비디아 주식 '대박'…억만장자 이름 올린 3명 https://finance.naver.com/news/news_read.naver?article_id=0005918252&office_id=018&mode=mainnews&type=&date=2025-01-03&page=2 “젠슨황 최고경영자(CEO)의 순자산을 새로운 수준으로 끌어올렸을 뿐 아니라, 초기 이사회 멤버 3명을 억만장자 대열에 올려놓았다.” .. 이데일리 2025-01-03 15:51:12\n",
      "미국발 훈풍에 태양광주 활짝 https://finance.naver.com/news/news_read.naver?article_id=0005423425&office_id=009&mode=mainnews&type=&date=2025-01-03&page=2 테슬라 ESS 역대최대 판매 美 태양광업체 급등 저점매수까지 나온 한화솔루션 10% 올라 보조금 폐지되면 경쟁 완화효과 기대해볼만 도널.. 매일경제 2025-01-03 15:51:11\n",
      "CES 앞두고 기대감 들썩...양자컴퓨터 관련주 급등 https://finance.naver.com/news/news_read.naver?article_id=0005290852&office_id=014&mode=mainnews&type=&date=2025-01-03&page=2 오는 7일 미국 라스베이거스에서 열리는 세계 최대 IT·가전 전시회 'CES 2025'에 '양자컴퓨팅' 부문이 신설된다는 소식에 국내 .. 파이낸셜뉴스 2025-01-03 15:50:26\n",
      "\"외국인, 1조 넘게 쏟아부었다\"…코스피, 2440선 회복 https://finance.naver.com/news/news_read.naver?article_id=0005077656&office_id=015&mode=mainnews&type=&date=2025-01-03&page=2 코스피가 2% 가깝게 올라 2440선을 회복했다. 외국인이 현물과 선물을 합쳐 코스피에 1조원 넘는 돈을 쏟아부으면서다. 특히 그 동안.. 한국경제 2025-01-03 15:47:13\n",
      "6거래일만에 상승 2440선…삼전·하이닉스↑[코스피 마감] https://finance.naver.com/news/news_read.naver?article_id=0005918249&office_id=018&mode=mainnews&type=&date=2025-01-03&page=2 코스피가 6거래일 만에 상승 마감했다. 기관과 외국인의 동반 매수세에 힘입어 2440선까이 올라섰다. 반도체와 2차전지 등 대형주를 중.. 이데일리 2025-01-03 15:43:14\n",
      "에코프로, 신저가 이후 10%대 반등…그룹주 강세[핫스탁](종합) https://finance.naver.com/news/news_read.naver?article_id=0012996688&office_id=003&mode=mainnews&type=&date=2025-01-03&page=2 전날 52주 신저가를 찍은 에코프로가 10% 넘게 반등했다. 3일 한국거래소에 따르면 이날 에코프로는 전일 대비 5600원(10.14%.. 뉴시스 2025-01-03 15:41:44\n",
      "\"우리 외국인이 달라졌어요\"…모처럼만에 '사자' https://finance.naver.com/news/news_read.naver?article_id=0001193929&office_id=215&mode=mainnews&type=&date=2025-01-03&page=2 코스피가 2%대에 육박하는 상승률로 급등 마감했다. 중국발 대규모 경기부양 기대감이 투자심리 개선으로 이어졌다. 특히, 외국인들이 중국.. 한국경제TV 2025-01-03 15:33:49\n",
      "\"현대차·기아와 수조원 계약\" 호재 떴다…개미들 '들썩' [종목+] https://finance.naver.com/news/news_read.naver?article_id=0005077614&office_id=015&mode=mainnews&type=&date=2025-01-03&page=3 증권사들이 현대자동차그룹 운송 계열사 현대글로비스에 대한 목표주가를 잇달아 상향 조정했다. 현대차·기아와 운송단가 인상이 돋보인 신규 .. 한국경제 2025-01-03 14:36:12\n",
      "삼성전자 품에 안긴 레인보우로보틱스, 上 찍더니…오늘도 9% 강세 https://finance.naver.com/news/news_read.naver?article_id=0005136593&office_id=008&mode=mainnews&type=&date=2025-01-03&page=3 삼성전자 자회사로 편입되는 레인보우로보틱스가 전날 상한가를 기록한데 이어 9% 이상 강세다. 3일 오후 1시51분 현재 코스닥에서 레인.. 머니투데이 2025-01-03 13:54:32\n",
      "코스피, 1.8% 상승하며 장중 2440선 회복…SK하이닉스 6%↑ https://finance.naver.com/news/news_read.naver?article_id=0005918129&office_id=018&mode=mainnews&type=&date=2025-01-03&page=3 기관과 외국인의 동반 매수세에 힘입어 코스피가 장중 2440선을 회복했다. 3일 엠피닥터에 따르면 오후 1시43분 코스피 지수는 전거래.. 이데일리 2025-01-03 13:51:09\n",
      "코스피, 2%대 급등…중국發 훈풍에 '환호' https://finance.naver.com/news/news_read.naver?article_id=0001193915&office_id=215&mode=mainnews&type=&date=2025-01-03&page=3 코스피가 2%대 급등세다. 중국의 적극적인 경기부양책 실시가 기대되면서 '프록시' 증시로 여겨지는 국내 증시가 온전히 수혜를 받고 있다.. 한국경제TV 2025-01-03 13:40:32\n",
      "\"외국인 돌아오나\" 꽁꽁 얼었던 증시 '깜짝 반등'…개미만 판다 https://finance.naver.com/news/news_read.naver?article_id=0005136569&office_id=008&mode=mainnews&type=&date=2025-01-03&page=3 외국인과 기관의 순매수에 힘입어 6거래일 만에 상승한 코스피가 상승폭을 키우고 있다. 코스닥은 11거래일 만에 장 중 700선을 탈환했.. 머니투데이 2025-01-03 12:54:48\n",
      "고려아연, 집중투표제 재차 촉구…\"소액주주 캐스팅보트 역할 강화\" https://finance.naver.com/news/news_read.naver?article_id=0000032112&office_id=648&mode=mainnews&type=&date=2025-01-03&page=3 최윤범 고려아연 회장 측이 3일 \"집중투표제 도입 시 소액주주가 캐스팅보트 역할을 하게 될 것\"이라고 강조하면서 집중투표제 도입을 재차.. 비즈워치 2025-01-03 12:37:07\n",
      "위안화 약세 완화·증시 호조…환율, 장중 1460원 중반대로 하락[외환분석] https://finance.naver.com/news/news_read.naver?article_id=0005918105&office_id=018&mode=mainnews&type=&date=2025-01-03&page=3 원·달러 환율이 장중 1460원대에서 하락세를 이어가고 있다. 장중 위안화가 소폭 강세를 나타내고 국내증시 호조에 외국인 자금이 유입되.. 이데일리 2025-01-03 12:21:07\n",
      "MBK \"최윤범 집중투표제 도입 주장, '아전인수'식 발언\" https://finance.naver.com/news/news_read.naver?article_id=0000353468&office_id=629&mode=mainnews&type=&date=2025-01-03&page=3 법조계 반응 인용해 재차 지적 \"집중투표제 자체 반대 아닌 자리보전 위한 위법 방식 것\" MBK파트너스가 고려아연 임시 주주총회에서 최.. 더팩트 2025-01-03 12:18:14\n",
      "'엔비디아 급등 수혜' SK하이닉스 1위[주식 초고수는 지금] https://finance.naver.com/news/news_read.naver?article_id=0004435441&office_id=011&mode=mainnews&type=&date=2025-01-03&page=3 미래에셋증권에서 거래하는 고수익 투자자들이 3일 오전 가장 많이 순매수한 종목은 SK하이닉스(000660)였다. 그 뒤를 이은 종목은 .. 서울경제 2025-01-03 12:02:07\n",
      "윤석열 체포영장 집행...코스피 2,440선 회복 [오한마] https://finance.naver.com/news/news_read.naver?article_id=0001193903&office_id=215&mode=mainnews&type=&date=2025-01-03&page=3 시청자 여러분 안녕하십니까. 오전장 한방에 마무리하는 뉴스. 오한마 시간입니다. 공수처가 윤석열 대통령에 대한 체포영장 집행에 나선 가.. 한국경제TV 2025-01-03 11:30:32\n",
      "현대차 IRA 보조금 덕에 2차전지주 ‘활짝’…에코프로 9%대 쑥↑ https://finance.naver.com/news/news_read.naver?article_id=0005423306&office_id=009&mode=mainnews&type=&date=2025-01-03&page=3 소재주부터 배터리 3사까지 상승세 현대차의 전기자동차가 미국에서 보조금을 받는다는 소식에 2차전지 업종 전반에 훈풍이 불었다. 3일 한.. 매일경제 2025-01-03 11:30:17\n",
      "“인공지능 다음은 너”...CES 앞두고 기대감 폭발한 양자컴퓨터 관련주 ‘들썩’ https://finance.naver.com/news/news_read.naver?article_id=0005423301&office_id=009&mode=mainnews&type=&date=2025-01-03&page=3 국내 양자컴퓨터 관련주가 급등하고 있다. 양자컴퓨터가 인공지능(AI)의 뒤를 이을 차세대 기술로 평가받으면서 매수세가 몰린 것으로 풀이.. 매일경제 2025-01-03 11:26:10\n",
      "사상 첫 현직 대통령 체포 시도에…홍준표·오세훈 테마주 춤 춘다 https://finance.naver.com/news/news_read.naver?article_id=0002681774&office_id=021&mode=mainnews&type=&date=2025-01-03&page=3 증시서 정치 테마주 강세…안철수·유승민·이준석 주도 급등 이재명 테마주는 차익실현 매물에 하락…\"무분별한 투자는 주의\" 고위공직자범죄수.. 문화일보 2025-01-03 11:24:16\n",
      "\"외국인 돌아왔나\" 코스피, 2440선 회복…반도체·2차전지 '불기둥' https://finance.naver.com/news/news_read.naver?article_id=0005077555&office_id=015&mode=mainnews&type=&date=2025-01-03&page=3 코스피가 외국인과 기관의 동반 매수세에 2440선을 회복했다. 국내 증시 ‘투톱’인 반도체와 2차전지 섹터가 동반 상승 중이다. 3일 .. 한국경제 2025-01-03 11:15:13\n",
      "가상자산 제도권 진입 가속…기관투자 급증·상품 다양화 https://finance.naver.com/news/news_read.naver?article_id=0002410916&office_id=016&mode=mainnews&type=&date=2025-01-03&page=3 트럼프 당선 후 최고가 기록 알트코인 제도권 입성 전망 가상자산은 지난해 시가총액 1·2위인 비트코인과 이더리움이 미국에서 현물 상장지.. 헤럴드경제 2025-01-03 11:11:14\n",
      "G마켓이 물꼬튼 이커머스 동맹…FI 엑시트<재무적투자자의 투자금 회수>는 ‘요원’ https://finance.naver.com/news/news_read.naver?article_id=0002410915&office_id=016&mode=mainnews&type=&date=2025-01-03&page=3 신세계그룹-알리바바 맞손 합작사 설립 시너지 ‘불투명’ 11번가·티메프 매각 장기화 티몬과 위메프의 판매 대금 정산 지연 사태로 이커머.. 헤럴드경제 2025-01-03 11:11:11\n",
      "삼성전자 지분투자 종목 ‘들썩들썩’ https://finance.naver.com/news/news_read.naver?article_id=0002410913&office_id=016&mode=mainnews&type=&date=2025-01-03&page=3 지분 35% 확대 최대주주 등극 레인보우로보틱스 상한가 질주 와이씨·에스앤에스틱 등도 관심 삼성전자가 국내 대표 로봇 전문기업인 레인보.. 헤럴드경제 2025-01-03 11:09:11\n",
      "엔비디아 반등에 한국 반도체주도 '들썩'…SK하이닉스 5%↑ https://finance.naver.com/news/news_read.naver?article_id=0005077545&office_id=015&mode=mainnews&type=&date=2025-01-03&page=3 반도체주들이 강세를 보이고 있다. 지난달 가파른 조정을 받아 120달러대로 떨어지기도 했던 엔비디아가 새해 첫 거래일에 강하게 반등하면.. 한국경제 2025-01-03 10:58:21\n",
      "월가, 올해 주목할 종목 ‘엔비디아’ 꼽자 삼성전자·SK 하이닉스 덩달아 웃었다 [투자360] https://finance.naver.com/news/news_read.naver?article_id=0002410882&office_id=016&mode=mainnews&type=&date=2025-01-03&page=3 월가, 엔비디아 올해 최고의 반도체 종목 선정 SK하이닉스·삼성전자 장 초반 주가 오름세 TSMC, 마이크론 등도 주가 올라 최태원(오.. 헤럴드경제 2025-01-03 10:56:07\n",
      "새해 첫날 외국인 픽은 방산주…국장 개미들 뭐 담았나 보니 https://finance.naver.com/news/news_read.naver?article_id=0005423261&office_id=009&mode=mainnews&type=&date=2025-01-03&page=3 국내 증시를 떠나고 있는 외국인투자자들이 올해 개장하자마자 선택한 종목은 방산주로 나타났다. 반면 개인투자자의 매수는 지난해 내내 사들.. 매일경제 2025-01-03 10:43:07\n",
      "“제발 정치만 발목잡지 않는다면”…1월에는 코스피 반등 기대해 봐도 될까? https://finance.naver.com/news/news_read.naver?article_id=0005423260&office_id=009&mode=mainnews&type=&date=2025-01-03&page=4 ‘새해 첫날 지수는 오른다’라는 국내 증시의 격언이 올해는 하루 늦게 반영된 모습이다. 통상 새해를 맞아 긍정적인 경제 전망이 나오며 .. 매일경제 2025-01-03 10:42:10\n",
      "코스피, 6거래일 만에 반등…2430대 회복 https://finance.naver.com/news/news_read.naver?article_id=0000070678&office_id=243&mode=mainnews&type=&date=2025-01-03&page=4 코스피가 3일 6거래일 만에 반등해 장 초반 2430대를 회복했다. 이날 오전 9시 31분 기준 코스피는 전장보다 33.66p(1.40.. 이코노미스트 2025-01-03 10:41:11\n",
      "尹 체포영장 집행 시도…이재명 테마주는 '약세'[핫종목] https://finance.naver.com/news/news_read.naver?article_id=0008001709&office_id=421&mode=mainnews&type=&date=2025-01-03&page=4 윤석열 대통령에 대한 체포영장 집행이 시도되면서 급등했던 이재명 더불어민주당 대표 관련주는 약세를 보이고 있다. 3일 오전 오전 10시.. 뉴스1 2025-01-03 10:40:58\n",
      "고려아연 집중투표제 도입, 소수주주 권리 침해 우려 제기돼 https://finance.naver.com/news/news_read.naver?article_id=0005527224&office_id=277&mode=mainnews&type=&date=2025-01-03&page=4 고려아연 최윤범 회장 측이 \"소수주주의 영향력이 커지고, 주요 주주들은 소수주주의 추천 이사를 지지해야 한다\"며 집중투표제를 옹호하는 .. 아시아경제 2025-01-03 10:39:18\n",
      "돛 올리고 '트럼프 순풍' 탔다…새해 돌아온 외국인 뭐 사나 보니 https://finance.naver.com/news/news_read.naver?article_id=0005136496&office_id=008&mode=mainnews&type=&date=2025-01-03&page=4 고환율과 정치적 불확실성으로 떠났던 외국인 투자자가 한국 증시로 돌아왔다. 덕분에 코스피는 3거래일 만에 2400선을 회복했다. 새해를.. 머니투데이 2025-01-03 10:33:47\n",
      "코스피, 6거래일만에 상승…기관·외인 '쌍끌이'로 2440선 탈환 https://finance.naver.com/news/news_read.naver?article_id=0005527216&office_id=277&mode=mainnews&type=&date=2025-01-03&page=4 5거래일 연속 하락을 이어갔던 코스피가 반등에 성공하며 장중 2440선을 탈환했다. 새해 첫 거래일 고개를 숙였던 것과 달리 매수세가 .. 아시아경제 2025-01-03 10:31:27\n",
      "‘테마주 불기둥’… 中 감염병 확산에 거래대금 50배 급증한 진단키트株 https://finance.naver.com/news/news_read.naver?article_id=0001044681&office_id=366&mode=mainnews&type=&date=2025-01-03&page=4 수젠텍·랩지노믹스 등 주가 강세 증시 약세 지속에 연초 테마주로 자금 쏠려 거래대금·거래량 급증… “단기 급등락 유의” 새해 증시에서 .. 조선비즈 2025-01-03 10:21:09\n",
      "엔비디아 낙관론에…반도체 투톱 '기지개' https://finance.naver.com/news/news_read.naver?article_id=0001193882&office_id=215&mode=mainnews&type=&date=2025-01-03&page=4 반도체 대장주 엔비디아가 뉴욕 증시에서 3% 가까이 상승한 영향으로 3일 국내 증시에서 SK하이닉스와 삼성전자 주가가 강세를 나타내고 .. 한국경제TV 2025-01-03 10:16:26\n",
      "글로벌 방산 골드러시 시대...군비 경쟁 각축에 K-방산주 ‘화색’ https://finance.naver.com/news/news_read.naver?article_id=0005290653&office_id=014&mode=mainnews&type=&date=2025-01-03&page=4 우크라이나와 중동에서 벌어지는 ‘두 개의 전쟁’ 여파로 글로벌 군비 경쟁이 격화하고 있다. 내달 미국 대통령 취임을 앞둔 도널드 트럼프.. 파이낸셜뉴스 2025-01-03 10:02:12\n",
      "양자컴퓨터 뜨자 관련株도 급등…한국첨단소재 이틀 연속 '上'[핫종목] https://finance.naver.com/news/news_read.naver?article_id=0008001582&office_id=421&mode=mainnews&type=&date=2025-01-03&page=4 전세계적으로 양자컴퓨터에 대한 관심이 쏠리면서 한국첨단소재(062970)가 이틀 연속 상한가를 기록하는 등 관련 주가가 급등하고 있다... 뉴스1 2025-01-03 10:01:39\n",
      "외국인들이 돌아오니 코스피 ‘방긋’…2430대까지 점프 [투자360] https://finance.naver.com/news/news_read.naver?article_id=0002410815&office_id=016&mode=mainnews&type=&date=2025-01-03&page=4 코스피, 엿새만에 반등…코스닥도 1% 상승 外人 이어 기관도 ‘사자’ 삼성전자·SK하이닉스 등 반도체주 상승 에코프로 등 이차전지주도 .. 헤럴드경제 2025-01-03 09:49:10\n",
      "한 달 만에 주가 3배 점프…양자컴퓨터 관련주 '불기둥' https://finance.naver.com/news/news_read.naver?article_id=0005077507&office_id=015&mode=mainnews&type=&date=2025-01-03&page=4 '꿈의 컴퓨터'로 불리는 양자컴퓨터 관련주가 장중 강한 급등세를 보이고 있다. 3일 오전 9시37분 기준 우리넷은 전날 대비 14.09.. 한국경제 2025-01-03 09:48:18\n",
      "“경쟁사랑 비교 안 돼”…6년만에 CES 연단 돌아온 젠슨황에 주주들 환호 [투자360] https://finance.naver.com/news/news_read.naver?article_id=0002410811&office_id=016&mode=mainnews&type=&date=2025-01-03&page=4 젠슨 황, 2017·2019년에 이어 세번째 CES 연설 블랙웰 기반 그래픽 카드 RTX 50 시리즈 공개 전망 BoA “엔비디아 경쟁.. 헤럴드경제 2025-01-03 09:47:10\n",
      "에코프로그룹株, 52주 최저가 기록 후 반등[핫종목] https://finance.naver.com/news/news_read.naver?article_id=0008001523&office_id=421&mode=mainnews&type=&date=2025-01-03&page=4 에코프로 그룹주가 전날 52주 최저가를 기록한지 하루 만에 반등하고 있다. 저가매수세가 유입된 영향으로 풀이된다. 한국거래소에 따르면 .. 뉴스1 2025-01-03 09:41:49\n",
      "로봇관련株, 차익 실현 매물에 동반 약세…에브리봇 7%↓ https://finance.naver.com/news/news_read.naver?article_id=0012995696&office_id=003&mode=mainnews&type=&date=2025-01-03&page=4 전 거래일 급등세를 나타냈던 로봇 관련주가 약세로 돌아섰다. 3일 오전 9시25분 현재 에브리봇은 전일 대비 1350원(7.05%) 내.. 뉴시스 2025-01-03 09:41:13\n",
      "\"트럼프 공포 과했나\"…테슬라 ESS 판매 호조에 신재생 '급반등' https://finance.naver.com/news/news_read.naver?article_id=0005077499&office_id=015&mode=mainnews&type=&date=2025-01-03&page=4 신재생에너지 관련 종목들이 급등하고 있다. 도널드 트럼프 미국 대통령 당선인이 펼칠 정책이 신재생에너지 산업에 부정적일 것이란 우려로 .. 한국경제 2025-01-03 09:40:14\n",
      "티메프 사태 속 G마켓發 이커머스 합종연횡, FI 엑시트 ‘산 넘어 산’ [주간 ‘딜’리버리] https://finance.naver.com/news/news_read.naver?article_id=0002410796&office_id=016&mode=mainnews&type=&date=2025-01-03&page=4 신세계그룹-알리바바 맞손, 시너지는 ‘불투명’ 11번가·티메프 매각 추진, PE 투자 성과는 미지수 컬리·오아시스 IPO도 시기상조 [.. 헤럴드경제 2025-01-03 09:35:09\n",
      " 트럼프 2.0 시대에 달러환율은 어디로 향할까[마켓칼럼] https://finance.naver.com/news/news_read.naver?article_id=0005077487&office_id=015&mode=mainnews&type=&date=2025-01-03&page=4 ※한경 마켓PRO 텔레그램을 구독하시면 프리미엄 투자 콘텐츠를 보다 편리하게 볼 수 있습니다. 텔레그램에서 ‘마켓PRO’를 검색하면 가.. 한국경제 2025-01-03 09:30:20\n",
      "“그래서 삼전만 따라 투자하면 돼요?”…레인보우로보틱스 최대주주 되자 지분투자 관련주도 ‘들썩’ [투자360] https://finance.naver.com/news/news_read.naver?article_id=0002410788&office_id=016&mode=mainnews&type=&date=2025-01-03&page=4 삼성전자, 국내 로봇 전문기업 레인보우로보틱스 최대주주 레인보우로보틱스 2일 주가 상한가 기록 와이씨·에스앤에스텍·엘오티베큠 등에도 주.. 헤럴드경제 2025-01-03 09:26:12\n",
      "美 반도체 훈풍에 SK하이닉스 1%대 강세…삼전은 약보합[핫종목] https://finance.naver.com/news/news_read.naver?article_id=0008001457&office_id=421&mode=mainnews&type=&date=2025-01-03&page=4 SK하이닉스(000660)가 미 반도체 훈풍에 힘입어 상승세를 보이고 있다. 3일 오전 9시12분 기준 SK하이닉스는 전일 대비 300.. 뉴스1 2025-01-03 09:23:33\n",
      "에코프로, 신저가 이후 12%대 반등 시도[핫스탁] https://finance.naver.com/news/news_read.naver?article_id=0012995628&office_id=003&mode=mainnews&type=&date=2025-01-03&page=5 전날 52주 신저가를 찍은 에코프로가 12%대 반등을 시도 중이다. 3일 오전 9시15분 현재 에코프로는 전일 대비 6700원(12.1.. 뉴시스 2025-01-03 09:20:26\n",
      "코스피, 외국인 매수에 강세 출발…2차전지주 '급반등' https://finance.naver.com/news/news_read.naver?article_id=0005077475&office_id=015&mode=mainnews&type=&date=2025-01-03&page=5 코스피가 외국인 매수세에 힘입어 장 초반 2410선을 강하게 돌파했다. 3일 오전 9시5분 현재 코스피는 전일 대비 19.29포인트(0.. 한국경제 2025-01-03 09:17:15\n",
      "'퐁당퐁당' 코스닥, 올해는 오를까…\"중·소형주 주목해야\" https://finance.naver.com/news/news_read.naver?article_id=0005077463&office_id=015&mode=mainnews&type=&date=2025-01-03&page=5 지난해 전 세계 주요국 증시 중 상승률 '꼴찌'를 기록했던 코스닥 지수가 올해 반등에 나설 수 있을지 관심이 모인다. 그동안 코스닥은 .. 한국경제 2025-01-03 08:59:12\n",
      "올해도 HBM 대장주는 'SK하이닉스'…목표가 27만 유지-한투 https://finance.naver.com/news/news_read.naver?article_id=0005136423&office_id=008&mode=mainnews&type=&date=2025-01-03&page=5 올해도 SK하이닉스가 고대역폭메모리(HBM) 대장주의 지위를 지켜갈 것이라는 관측이 나왔다. 한국투자증권은 투자의견 '매수', 목표주가.. 머니투데이 2025-01-03 08:53:58\n",
      "우리은행 \"강달러 부담 재확대…달러·원 환율 낙폭 되돌림 전망\" https://finance.naver.com/news/news_read.naver?article_id=0008001355&office_id=421&mode=mainnews&type=&date=2025-01-03&page=5 우리은행은 글로벌 달러 강세에 달러·원 환율이 전날 낙폭을 반납할 것으로 3일 예상했다. 금일 예상 밴드는 1466원에서 1476원으로.. 뉴스1 2025-01-03 08:47:58\n",
      "새해에도 꺾이지 않는 ‘강달러’ 위용…환율 1470원대로 반등[외환브리핑] https://finance.naver.com/news/news_read.naver?article_id=0005917828&office_id=018&mode=mainnews&type=&date=2025-01-03&page=5 원·달러 환율은 1470원대로 반등이 예상된다. 미국의 고용, 제조업 지표가 호조를 나타내면서 달러화가 2년 만에 최고치를 나타냈기 때.. 이데일리 2025-01-03 08:33:17\n",
      "신성이엔지, 투자 지연에 따른 실적 부진…목표가 하향[클릭 e종목] https://finance.naver.com/news/news_read.naver?article_id=0005527085&office_id=277&mode=mainnews&type=&date=2025-01-03&page=5 키움증권이 3일 신성이엔지에 대해 실적 부진을 이유로 목표주가를 기존 2800원에서 1800원으로 낮췄다. 신성이엔지의 2일 종가는 1.. 아시아경제 2025-01-03 08:29:14\n",
      "상방 막힌 韓증시…AI·로봇·바이오 주목[오늘증시전망] https://finance.naver.com/news/news_read.naver?article_id=0005917819&office_id=018&mode=mainnews&type=&date=2025-01-03&page=5 2400선 회복을 노리는 한국 증시가 상방이 제한된 가운데 지지부진한 흐름을 이어갈 것이란 전망이 나온다. 점진적으로 저점을 높여갈 것.. 이데일리 2025-01-03 08:25:09\n",
      "\"삼성SDI, 4분기 '어닝 쇼크' 예상…목표가↓\"-삼성 https://finance.naver.com/news/news_read.naver?article_id=0005077448&office_id=015&mode=mainnews&type=&date=2025-01-03&page=5 삼성증권은 2일 삼성SDI에 대해 전기차 수요 부진을 반영해 실적 추정치를 하향한다며 목표주가를 기존 46만원에서 36만원으로 22% .. 한국경제 2025-01-03 08:20:13\n",
      "주요 외신이 바라보는 2025년 보잉 전망 [원자재 & ETF 뉴스] https://finance.naver.com/news/news_read.naver?article_id=0001193869&office_id=215&mode=mainnews&type=&date=2025-01-03&page=5 원자재 시황도 살펴보겠습니다. 현재 시간 5시 46분 지나가고 있고요, 5시 수치를 기준으로 하고 있습니다. 국제유가부터 확인해 보겠습.. 한국경제TV 2025-01-03 08:18:29\n",
      "새해도 줄줄이 신저가…기약 없는 2차전지 소재株에 '눈물' [종목+] https://finance.naver.com/news/news_read.naver?article_id=0005077447&office_id=015&mode=mainnews&type=&date=2025-01-03&page=5 2차전지 소재주들이 '을사년(乙巳年)' 새해에도 신저가 행진을 이어가고 있다. 전기차 캐즘(일시적 수요 둔화)에 따른 대규모 적자와 트.. 한국경제 2025-01-03 08:16:13\n",
      "\"LIG넥스원, 2029년까지 실적 성장…미래 무인 무기체계의 강자\"[클릭 e종목] https://finance.naver.com/news/news_read.naver?article_id=0005527074&office_id=277&mode=mainnews&type=&date=2025-01-03&page=5 다올투자증권은LIG넥스원에 대해 2029년까지 가장 긴 실적 성장이 가능할 전망이라고 3일 분석했다. 투자의견 '매수'와 목표주가 31.. 아시아경제 2025-01-03 08:15:52\n",
      " 연초 달러 초강세에 코스피 '시름'…낙폭 되돌림 기대도[마켓뷰] https://finance.naver.com/news/news_read.naver?article_id=0015139398&office_id=001&mode=mainnews&type=&date=2025-01-03&page=5 달러인덱스 2022년 이후 첫 109 돌파…테슬라 6% 급락도 투심 부담 \"12월에 여러 악재 선반영…충격 되돌림 노선 탈 수 있어\" .. 연합뉴스 2025-01-03 08:13:26\n",
      "美 증시, 새해 첫 거래 하락…\"코스피 상방 제한 지속\"[굿모닝 증시] https://finance.naver.com/news/news_read.naver?article_id=0005527072&office_id=277&mode=mainnews&type=&date=2025-01-03&page=5 미국 증시가 새해 첫 거래일을 하락으로 마감했다. 2일(현지시간) 뉴욕증권거래소(NYSE)에서 다우존스30산업평균지수는 전장보다 151.. 아시아경제 2025-01-03 08:12:49\n",
      "S-Oil, 4Q 흑전 전망…올해 실적 회복 가능 -유안타 https://finance.naver.com/news/news_read.naver?article_id=0005917804&office_id=018&mode=mainnews&type=&date=2025-01-03&page=5 유안타증권이 S-Oil(010950)에 대해 4분기 흑자전환이 기대되며 올해는 글로벌 증설 감소로 실적 회복이 가능할 것으로 분석했다... 이데일리 2025-01-03 08:06:13\n",
      "1400원 뉴노멀된 환율… 국내외 요소 합쳐진 결과 https://finance.naver.com/news/news_read.naver?article_id=0001044627&office_id=366&mode=mainnews&type=&date=2025-01-03&page=5 미국 달러화에 대한 원화 환율(원·달러 환율)이 1500원에 근접한 가운데, 국내 펀더멘털과 도널드 트럼프 미국 대통령 당선인, 중국 .. 조선비즈 2025-01-03 08:01:11\n",
      "미래에셋, ‘TIGER 키워드’ 트럼프 2.0 시대 ETF 투자 전략 소개 https://finance.naver.com/news/news_read.naver?article_id=0002910191&office_id=119&mode=mainnews&type=&date=2025-01-03&page=5 미래에셋자산운용은 3일 ‘TIGER’를 키워드로 2025년 상장지수펀드(ETF) 투자전략과 도널드 트럼프 미국 대통령 당선으로 수혜가 .. 데일리안 2025-01-03 08:00:11\n",
      "“430弗에 물려”vs“아프니까 테슬라”…‘年 車인도량 첫 감소’ 테슬라, 새해 첫날 -6% ‘뚝’ https://finance.naver.com/news/news_read.naver?article_id=0002410736&office_id=016&mode=mainnews&type=&date=2025-01-03&page=5 “주당 400달러 위로 들어오신 분 계신가요? 네. 저 430달러입니다.” (온라인 주식거래앱 커뮤니티) “아프니까 테슬라입니다. 제가.. 헤럴드경제 2025-01-03 07:58:11\n",
      "“1월 효과, 로봇·바이오 중소형주서 기대” https://finance.naver.com/news/news_read.naver?article_id=0005917794&office_id=018&mode=mainnews&type=&date=2025-01-03&page=5 증시의 ‘1월 효과’가 대형주 대비 소형주에서 두드러지는 만큼 이달 인공지능(AI), 로봇, 바이오 테마 내 중소형주의 약진을 기대할 .. 이데일리 2025-01-03 07:55:09\n",
      "\"포스코퓨처엠, 올해는 '역풍' 견딜 시간…목표가↓\"-NH https://finance.naver.com/news/news_read.naver?article_id=0005077438&office_id=015&mode=mainnews&type=&date=2025-01-03&page=5 NH투자증권은 3일 포스코퓨처엠에 대해 올해는 미국 전기차 시장의 성장 둔화의 역풍을 견뎌야 하는 시기라며 목표주가를 기존 24만원에서.. 한국경제 2025-01-03 07:50:15\n",
      "\"포스코퓨처엠, 재무구조 개선 필요…목표가↓\"[클릭 e종목] https://finance.naver.com/news/news_read.naver?article_id=0005527045&office_id=277&mode=mainnews&type=&date=2025-01-03&page=6 NH투자증권은 3일 포스코퓨처엠에 대해 향후 재무구조 개선이 필요할 것으로 보고 목표주가를 기존 24만원에서 18만원으로 하향 조정했다.. 아시아경제 2025-01-03 07:47:41\n",
      "“KT, 올해 실적 기대해 볼 만…주가 5만5000원 가능할 것” https://finance.naver.com/news/news_read.naver?article_id=0005423144&office_id=009&mode=mainnews&type=&date=2025-01-03&page=6 하나증권은 3일 KT에 대해 낮은 기저, 비용 절감 효과로 올해 가장 괄목할 만한 이익 성장을 기록할 전망이라며 투자의견 매수, 목표주.. 매일경제 2025-01-03 07:47:08\n",
      "현대글로비스, 매출 성장·환율 효과 기대…목표가↑ -하나 https://finance.naver.com/news/news_read.naver?article_id=0005917789&office_id=018&mode=mainnews&type=&date=2025-01-03&page=6 하나증권이 현대글로비스(086280)에 대해 완성차 해상운송(PCTC) 매출 성장과 환율 상승 효과 등으로 2025년 이후 실적추정을 .. 이데일리 2025-01-03 07:40:18\n",
      "국내 주식시장서 바뀌는 3가지… 거래세·배당·공모펀드 https://finance.naver.com/news/news_read.naver?article_id=0001044624&office_id=366&mode=mainnews&type=&date=2025-01-03&page=6 올해부터 국내 주식시장에서 증권거래세율이 인하된다. 또 배당 절차가 변경되며 일반 공모펀드는 상장지수펀드(ETF)처럼 한국거래소에 상장.. 조선비즈 2025-01-03 07:40:15\n",
      "\"지난해 50% 뛴 금값, 올해도?\"…개미 '줍줍'에 상승세 계속 https://finance.naver.com/news/news_read.naver?article_id=0008001244&office_id=421&mode=mainnews&type=&date=2025-01-03&page=6 지난해 50%가량 올랐던 금값이 올해도 상승세를 이어갈 전망이다. 대내외 불확실성이 증폭되면서 국내 투자자들 사이에서 안전자산인 금에 .. 뉴스1 2025-01-03 07:22:45\n",
      "새해 첫날에도 하락…테슬라, 차량 판매량 '쇼크'에 6%↓ [뉴욕증시 브리핑] https://finance.naver.com/news/news_read.naver?article_id=0005077429&office_id=015&mode=mainnews&type=&date=2025-01-03&page=6 새해 첫 거래일에 뉴욕증시의 주요 지수가 소폭 하락 마감했다. 전기차업체 테슬라의 작년 차량 판매량이 예상을 밑돌면서 투자심리가 악화됐.. 한국경제 2025-01-03 07:21:13\n",
      "비트코인 등 제도권 편입 원년…참여자 늘고 상품 다양화 해진다 [투자360] https://finance.naver.com/news/news_read.naver?article_id=0002410722&office_id=016&mode=mainnews&type=&date=2025-01-03&page=6 현물 ETF 출시 후 기관투자가 대거 유입 트럼프 당선·갠슬러 위원장 사임 후 최고가 올해 “알트코인 제도권 진입 가속화” 전망 [게티.. 헤럴드경제 2025-01-03 07:17:08\n",
      "새해 첫 거래도 약세 마감… '산타랠리' 실종 [데일리국제금융시장] https://finance.naver.com/news/news_read.naver?article_id=0004435263&office_id=011&mode=mainnews&type=&date=2025-01-03&page=6 새해 첫 거래일인 2일(현지 시간) 뉴욕 증시는 약세 마감했다. 주요 지수가 지난해 말부터 5거래일 연속 하락하며 연말부터 새해초까지 .. 서울경제 2025-01-03 07:08:14\n",
      "“중국 시장에 확신 없다” 지난해 中 ETF 출시 ‘단 1건’ https://finance.naver.com/news/news_read.naver?article_id=0004435261&office_id=011&mode=mainnews&type=&date=2025-01-03&page=6 지난해 미국을 중심으로 해외지수형 상장지수펀드(ETF) 출시가 급격히 늘어난 가운데 중국 관련 ETF는 단 1건에 그친 것으로 나타났다.. 서울경제 2025-01-03 07:03:09\n",
      "'산타 랠리' 어렵네…테슬라 쇼크에 흔들린 투심[월스트리트in] https://finance.naver.com/news/news_read.naver?article_id=0005917773&office_id=018&mode=mainnews&type=&date=2025-01-03&page=6 뉴욕증시가 2025년 첫 거래일인 2일(현지시간) 3대 지수 모두 소폭 하락세로 마감, 험난한 출발을 했다. 달러인덱스가 2년 만에 최.. 이데일리 2025-01-03 07:03:09\n",
      "증시 바닥 확인했는데 반등은 언제쯤…우량주보단 실적주 주목 https://finance.naver.com/news/news_read.naver?article_id=0004435258&office_id=011&mode=mainnews&type=&date=2025-01-03&page=6 새해 증시 첫 거래일부터 코스피 지수는 약보합세로 마감하면서 끝내 2400선을 넘지 못했다. 지난해 하반기 이후 증시 부진으로 ‘록 바.. 서울경제 2025-01-03 07:01:17\n",
      "삼전, 코스피 약세장 주범 지목…새해엔 반등 신호탄 쏠까 https://finance.naver.com/news/news_read.naver?article_id=0002910180&office_id=119&mode=mainnews&type=&date=2025-01-03&page=6 지난해 글로벌 증시 대비 국내 증시의 부진이 두드러졌던 한 요인으로 삼성전자의 하락세가 지목된다. 새해 코스피지수가 상승 국면에 들기 .. 데일리안 2025-01-03 07:00:14\n",
      "전통 IB 강화나선 증권사들…조직개편·세대교체 단행 https://finance.naver.com/news/news_read.naver?article_id=0000070662&office_id=243&mode=mainnews&type=&date=2025-01-03&page=6 증권사들이 최근 IB부문 수장을 교체하고 조직을 개편하는 등 전통 기업은행(IB) 강화를 위한 재정비에 나섰다. 수년간 주요 먹거리였던.. 이코노미스트 2025-01-03 07:00:13\n",
      "“지금이 저가매수 기회”…금, 불확실성 속 투자매력↑ https://finance.naver.com/news/news_read.naver?article_id=0002910179&office_id=119&mode=mainnews&type=&date=2025-01-03&page=6 작년 내내 가파른 상승세를 기록했던 금 가격이 올해에도 상승세를 이어갈 것이라는 관측이 나오면서 투자자들의 관심이 집중되고 있다. 전문.. 데일리안 2025-01-03 07:00:13\n",
      "채권 시장, '연초 효과' 가능할까 https://finance.naver.com/news/news_read.naver?article_id=0012995439&office_id=003&mode=mainnews&type=&date=2025-01-03&page=6 12·3 비상계엄 사태와 탄핵 정국에 따른 정치적 불확실성으로 투자심리가 위축된 채권 시장에서 '연초 효과'를 기대할 수 있을지 주목된.. 뉴시스 2025-01-03 07:00:00\n",
      "실적 발표 코앞인데 “목표주가 내릴게요”… 삼성전자 어쩌나 https://finance.naver.com/news/news_read.naver?article_id=0005423131&office_id=009&mode=mainnews&type=&date=2025-01-03&page=6 증권사 리포트 살펴보니 4분기 영업익 전망 7.6조 업계 예상보다 10% 낮아 메모리·스마트폰 부진 “PBR 0.9배로 저평가 여전 추.. 매일경제 2025-01-03 06:54:12\n",
      "몸값 낮추고 IPO 재도전 하는 오름테라퓨틱[증권신고서 읽는 기자] https://finance.naver.com/news/news_read.naver?article_id=0005527019&office_id=277&mode=mainnews&type=&date=2025-01-03&page=6 신약 개발 기업 오름테라퓨틱이 몸값을 낮추고 기업공개(IPO)에 재도전합니다. 기존 희망 공모가 대비 20%가량 낮추면서 시장 친화적으.. 아시아경제 2025-01-03 06:50:00\n",
      "\"얼마나 더\"…코스피, 올해 영업익 전망 3개월 만에 23조 줄어 https://finance.naver.com/news/news_read.naver?article_id=0008001228&office_id=421&mode=mainnews&type=&date=2025-01-03&page=6 코스피가 지난해 최악의 성적표를 받은 가운데 올해 전망도 좋지 않은 것으로 나타났다. 증시 전문가들은 올해 코스피 상장사 영업이익 추정.. 뉴스1 2025-01-03 06:50:00\n",
      "산타 사라진 뉴욕증시, 새해 첫거래일 동반 하락 https://finance.naver.com/news/news_read.naver?article_id=0001193861&office_id=215&mode=mainnews&type=&date=2025-01-03&page=6 뉴욕증시는 새해 첫 거래일인 2일(현지시간)에도 산타랠리 없이 약세로 마감했다. 이날 뉴욕증시에서 다우존스30 산업평균지수는 전 거래일.. 한국경제TV 2025-01-03 06:45:43\n",
      "'트럼프 2기'가 온다…\"신재생주 떨고, 조선·바이오 웃고\" [2025 증시전망]⑤ https://finance.naver.com/news/news_read.naver?article_id=0008001226&office_id=421&mode=mainnews&type=&date=2025-01-03&page=6 미국 '트럼프 2기 행정부' 출범을 앞두고 전 세계가 긴장하고 있다. '미스터 불확실성(Mr.Uncertainty)'이라고 불리는 도널.. 뉴스1 2025-01-03 06:45:00\n",
      "뉴욕증시, 테슬라 실망감에 꺾인 투심…동반 하락 마감 https://finance.naver.com/news/news_read.naver?article_id=0015139306&office_id=001&mode=mainnews&type=&date=2025-01-03&page=7 진정호 연합인포맥스 특파원 = 뉴욕증시의 3대 주가지수가 소폭 하락한 채 2025년 새해 첫 거래를 마감했다. 미국 전기차 제조업체 테.. 연합뉴스 2025-01-03 06:38:18\n",
      "테슬라發 악재 덮쳤다…美 증시, 새해 첫날 ‘뚝’ [투자360] https://finance.naver.com/news/news_read.naver?article_id=0002410712&office_id=016&mode=mainnews&type=&date=2025-01-03&page=7 테슬라, 4분기 인도량 실망에 6%↓ “당분간 시장 변동성 확대” [헤럴드경제=신동윤 기자] 미국 뉴욕증시가 새해 첫 거래일인 2일(현.. 헤럴드경제 2025-01-03 06:37:08\n",
      "국장 반전 트리거는 환율…\"원·달러만 꺾여도 반등한다\" https://finance.naver.com/news/news_read.naver?article_id=0005527015&office_id=277&mode=mainnews&type=&date=2025-01-03&page=7 코스피 반등의 트리거(방아쇠)가 원·달러 하락 전환이라는 분석이 나온다. 증권가는 현재 코스피가 펀더멘털(기초체력) 이상으로 하락했으며.. 아시아경제 2025-01-03 06:20:00\n",
      "클로봇 물타기 나선 개인…새해 첫날 웃었다 https://finance.naver.com/news/news_read.naver?article_id=0005527013&office_id=277&mode=mainnews&type=&date=2025-01-03&page=7 서비스 로봇 소프트웨어 개발업체 클로봇 주가가 최근 급반등하면서 개인 투자자들이 웃음 짓고 있다. 지난해 10월28일 상장 당일 공모가.. 아시아경제 2025-01-03 06:10:00\n",
      "“26일까지 보유하면 배당 받는 거 아니었어요?”… ‘깜깜이 배당락일’에 투자자 아우성 https://finance.naver.com/news/news_read.naver?article_id=0001044609&office_id=366&mode=mainnews&type=&date=2025-01-03&page=7 “결산 배당은 그래서 언제 결정되는 건가요.”(한샘 주주) “배당락을 고려해도 많이 빠졌다고 생각하고 담았는데, 배당락일이 아니었다니 .. 조선비즈 2025-01-03 06:01:21\n",
      "\"올 자사주 매입금액 20兆 넘는다\" https://finance.naver.com/news/news_read.naver?article_id=0005290540&office_id=014&mode=mainnews&type=&date=2025-01-03&page=7 올해 우리 시장에서 자사주 매입금액이 20조원을 넘을 것이라는 전망이 나왔다. K증시(한국증시) 저평가 심화에 저평가돼 있는 자사주를 .. 파이낸셜뉴스 2025-01-03 06:01:10\n",
      "목표주가 '7만전자'로…삼성전자, 새해 첫 거래일부터 연이어 '하향' 전망 https://finance.naver.com/news/news_read.naver?article_id=0005527011&office_id=277&mode=mainnews&type=&date=2025-01-03&page=7 증권사들이 2025년 새해 첫 거래일부터 삼성전자의 목표주가를 연이어 하향했다. 작년 4분기 실적은 물론 2025년 영업이익 전망도 조.. 아시아경제 2025-01-03 06:00:00\n",
      "'美송환' 권도형, 뉴욕 법원서 테라·루나 폭락사태 무죄 주장 https://finance.naver.com/news/news_read.naver?article_id=0005527010&office_id=277&mode=mainnews&type=&date=2025-01-03&page=7 가상화폐 '테라·루나' 폭락사태의 핵심 인물인 권도형씨가 2일(현지시간) 뉴욕 연방법원에 출석해 무죄를 주장했다. 권씨는 증권 및 상품.. 아시아경제 2025-01-03 05:58:46\n",
      "테슬라, 연간 인도량 2011년 이후 첫 감소…주가 6%대↓ https://finance.naver.com/news/news_read.naver?article_id=0005527009&office_id=277&mode=mainnews&type=&date=2025-01-03&page=7 미국 전기차업체 테슬라의 연간 차량 인도량이 10년여 만에 처음으로 감소했다. 지난해 4분기 인도량은 사상 최대치를 기록했으나, 시장 .. 아시아경제 2025-01-03 05:45:06\n",
      " 비트코인, 을사년도 플러스 수익률?… 가상자산 시대 '성큼'[PLUS] https://finance.naver.com/news/news_read.naver?article_id=0001049343&office_id=417&mode=mainnews&type=&date=2025-01-03&page=7 을사년 재테크 지형도가 바뀐다. 미국 중앙은행인 연방준비제도(Fed·연준)의 기준금리 인하에 한국은행은 긴축에서 완화로 통화정책 방향을.. 머니S 2025-01-03 05:13:00\n",
      " \"수익률 22.19% 실화야\" 서학개미들, 웃음복 터진다[Need] https://finance.naver.com/news/news_read.naver?article_id=0001049338&office_id=417&mode=mainnews&type=&date=2025-01-03&page=7 2025년 새해가 밝았다. 올해 미국 연방준비제도(Fed·연준)는 기준금리 추가 인하를 예고했고 한국은행은 통화정책 완화조치를 시사했다.. 머니S 2025-01-03 04:40:00\n",
      " 다시 뛰는 코스피, 을사년 3000 가능할까[Stock-센터장에게 묻다] https://finance.naver.com/news/news_read.naver?article_id=0001049336&office_id=417&mode=mainnews&type=&date=2025-01-03&page=7 2025년 새해가 밝았다. 올해 미국 연방준비제도(Fed·연준)는 기준금리 추가 인하를 예고했고 한국은행은 통화정책 완화조치를 시사했다.. 머니S 2025-01-03 04:30:00\n",
      "“FI만 좋은 일 아닌가요?”…‘IPO 대어’ 흥행 위협하는 구주매출[마켓인] https://finance.naver.com/news/news_read.naver?article_id=0005917739&office_id=018&mode=mainnews&type=&date=2025-01-03&page=7 이 기사는 2025년01월02일 15시17분에 마켓인 프리미엄 콘텐츠로 선공개 되었습니다. 올해 기업공개(IPO)를 추진하는 대어급 기.. 이데일리 2025-01-03 03:18:15\n",
      "뉴욕증시, 2025 새해 첫 거래일…새 기대 품고 동반 상승 출발 https://finance.naver.com/news/news_read.naver?article_id=0015139245&office_id=001&mode=mainnews&type=&date=2025-01-03&page=7 김 현 연합인포맥스 통신원 = 뉴욕증시는 2025년 첫 거래일을 동반 상승세로 출발했다. 연말연시 휴가를 마친 투자자들이 돌아오면서 시.. 연합뉴스 2025-01-03 00:49:34\n"
     ]
    }
   ],
   "source": [
    "# 1페이지 ~ 마지막페이지 크롤링\n",
    "\n",
    "data = []\n",
    "for i in range(1,1000):\n",
    "    response = requests.get(f'https://finance.naver.com/news/mainnews.naver?date=2025-01-03&page={i}')\n",
    "    html = response.text\n",
    "    soup = BeautifulSoup(html, 'html.parser')\n",
    "    blocks = soup.select(\".block1\")\n",
    "    for block in blocks:\n",
    "        title = block.select_one('.articleSubject > a').text\n",
    "        url = \"https://finance.naver.com\" + block.select_one('.articleSubject > a').attrs['href']\n",
    "        content = block.select_one(\".articleSummary\").contents[0].strip()\n",
    "        a = block.select_one(\".press\").text.strip()\n",
    "        date = block.select_one(\".wdate\").text\n",
    "        print(title, url, content, a, date)\n",
    "        data.append([title, url, content, a, date])\n",
    "    if soup.select_one('.pgRR') == None:\n",
    "        break"
   ]
  },
  {
   "cell_type": "code",
   "execution_count": 57,
   "metadata": {},
   "outputs": [],
   "source": [
    "# 엑셀저장\n",
    "import pandas as pd\n",
    "\n",
    "df = pd.DataFrame(data, columns=[\"제목\", '링크', '내용', '언론사', '날짜'])\n",
    "df.to_excel('naver_stock.xlsx')"
   ]
  }
 ],
 "metadata": {
  "kernelspec": {
   "display_name": "Python 3",
   "language": "python",
   "name": "python3"
  },
  "language_info": {
   "codemirror_mode": {
    "name": "ipython",
    "version": 3
   },
   "file_extension": ".py",
   "mimetype": "text/x-python",
   "name": "python",
   "nbconvert_exporter": "python",
   "pygments_lexer": "ipython3",
   "version": "3.12.8"
  }
 },
 "nbformat": 4,
 "nbformat_minor": 2
}
